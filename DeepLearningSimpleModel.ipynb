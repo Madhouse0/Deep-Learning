{
  "nbformat": 4,
  "nbformat_minor": 0,
  "metadata": {
    "colab": {
      "provenance": []
    },
    "kernelspec": {
      "name": "python3",
      "display_name": "Python 3"
    },
    "language_info": {
      "name": "python"
    }
  },
  "cells": [
    {
      "cell_type": "code",
      "execution_count": null,
      "metadata": {
        "id": "ePeQUo6c6iP3"
      },
      "outputs": [],
      "source": [
        "import tensorflow as tf\n",
        "from tensorflow import keras\n",
        "import pandas as pd\n",
        "from tensorflow.keras.models import Sequential\n",
        "from tensorflow.keras.layers import Dense\n",
        "import numpy as np"
      ]
    },
    {
      "cell_type": "code",
      "source": [
        "data_house = pd.read_excel('Real-estate-valuation-data-set.xlsx')\n",
        "data_house = data_house.drop('X1 transaction date', 1)\n",
        "data_house.head(5)"
      ],
      "metadata": {
        "id": "1Kk7gk2F6or-",
        "colab": {
          "base_uri": "https://localhost:8080/",
          "height": 322
        },
        "outputId": "278148e4-2bc1-4538-bf34-4a1f6babae54"
      },
      "execution_count": null,
      "outputs": [
        {
          "output_type": "stream",
          "name": "stderr",
          "text": [
            "<ipython-input-171-a6fe31a5e1b0>:2: FutureWarning: In a future version of pandas all arguments of DataFrame.drop except for the argument 'labels' will be keyword-only\n",
            "  data_house = data_house.drop('X1 transaction date', 1)\n"
          ]
        },
        {
          "output_type": "execute_result",
          "data": {
            "text/plain": [
              "   No  X2 house age  X3 distance to the nearest MRT station  \\\n",
              "0   1          32.0                                84.87882   \n",
              "1   2          19.5                               306.59470   \n",
              "2   3          13.3                               561.98450   \n",
              "3   4          13.3                               561.98450   \n",
              "4   5           5.0                               390.56840   \n",
              "\n",
              "   X4 number of convenience stores  X5 latitude  X6 longitude  \\\n",
              "0                               10     24.98298     121.54024   \n",
              "1                                9     24.98034     121.53951   \n",
              "2                                5     24.98746     121.54391   \n",
              "3                                5     24.98746     121.54391   \n",
              "4                                5     24.97937     121.54245   \n",
              "\n",
              "   Y house price of unit area  \n",
              "0                        37.9  \n",
              "1                        42.2  \n",
              "2                        47.3  \n",
              "3                        54.8  \n",
              "4                        43.1  "
            ],
            "text/html": [
              "\n",
              "  <div id=\"df-b42d42b1-2896-4eba-aae1-27417f115644\">\n",
              "    <div class=\"colab-df-container\">\n",
              "      <div>\n",
              "<style scoped>\n",
              "    .dataframe tbody tr th:only-of-type {\n",
              "        vertical-align: middle;\n",
              "    }\n",
              "\n",
              "    .dataframe tbody tr th {\n",
              "        vertical-align: top;\n",
              "    }\n",
              "\n",
              "    .dataframe thead th {\n",
              "        text-align: right;\n",
              "    }\n",
              "</style>\n",
              "<table border=\"1\" class=\"dataframe\">\n",
              "  <thead>\n",
              "    <tr style=\"text-align: right;\">\n",
              "      <th></th>\n",
              "      <th>No</th>\n",
              "      <th>X2 house age</th>\n",
              "      <th>X3 distance to the nearest MRT station</th>\n",
              "      <th>X4 number of convenience stores</th>\n",
              "      <th>X5 latitude</th>\n",
              "      <th>X6 longitude</th>\n",
              "      <th>Y house price of unit area</th>\n",
              "    </tr>\n",
              "  </thead>\n",
              "  <tbody>\n",
              "    <tr>\n",
              "      <th>0</th>\n",
              "      <td>1</td>\n",
              "      <td>32.0</td>\n",
              "      <td>84.87882</td>\n",
              "      <td>10</td>\n",
              "      <td>24.98298</td>\n",
              "      <td>121.54024</td>\n",
              "      <td>37.9</td>\n",
              "    </tr>\n",
              "    <tr>\n",
              "      <th>1</th>\n",
              "      <td>2</td>\n",
              "      <td>19.5</td>\n",
              "      <td>306.59470</td>\n",
              "      <td>9</td>\n",
              "      <td>24.98034</td>\n",
              "      <td>121.53951</td>\n",
              "      <td>42.2</td>\n",
              "    </tr>\n",
              "    <tr>\n",
              "      <th>2</th>\n",
              "      <td>3</td>\n",
              "      <td>13.3</td>\n",
              "      <td>561.98450</td>\n",
              "      <td>5</td>\n",
              "      <td>24.98746</td>\n",
              "      <td>121.54391</td>\n",
              "      <td>47.3</td>\n",
              "    </tr>\n",
              "    <tr>\n",
              "      <th>3</th>\n",
              "      <td>4</td>\n",
              "      <td>13.3</td>\n",
              "      <td>561.98450</td>\n",
              "      <td>5</td>\n",
              "      <td>24.98746</td>\n",
              "      <td>121.54391</td>\n",
              "      <td>54.8</td>\n",
              "    </tr>\n",
              "    <tr>\n",
              "      <th>4</th>\n",
              "      <td>5</td>\n",
              "      <td>5.0</td>\n",
              "      <td>390.56840</td>\n",
              "      <td>5</td>\n",
              "      <td>24.97937</td>\n",
              "      <td>121.54245</td>\n",
              "      <td>43.1</td>\n",
              "    </tr>\n",
              "  </tbody>\n",
              "</table>\n",
              "</div>\n",
              "      <button class=\"colab-df-convert\" onclick=\"convertToInteractive('df-b42d42b1-2896-4eba-aae1-27417f115644')\"\n",
              "              title=\"Convert this dataframe to an interactive table.\"\n",
              "              style=\"display:none;\">\n",
              "        \n",
              "  <svg xmlns=\"http://www.w3.org/2000/svg\" height=\"24px\"viewBox=\"0 0 24 24\"\n",
              "       width=\"24px\">\n",
              "    <path d=\"M0 0h24v24H0V0z\" fill=\"none\"/>\n",
              "    <path d=\"M18.56 5.44l.94 2.06.94-2.06 2.06-.94-2.06-.94-.94-2.06-.94 2.06-2.06.94zm-11 1L8.5 8.5l.94-2.06 2.06-.94-2.06-.94L8.5 2.5l-.94 2.06-2.06.94zm10 10l.94 2.06.94-2.06 2.06-.94-2.06-.94-.94-2.06-.94 2.06-2.06.94z\"/><path d=\"M17.41 7.96l-1.37-1.37c-.4-.4-.92-.59-1.43-.59-.52 0-1.04.2-1.43.59L10.3 9.45l-7.72 7.72c-.78.78-.78 2.05 0 2.83L4 21.41c.39.39.9.59 1.41.59.51 0 1.02-.2 1.41-.59l7.78-7.78 2.81-2.81c.8-.78.8-2.07 0-2.86zM5.41 20L4 18.59l7.72-7.72 1.47 1.35L5.41 20z\"/>\n",
              "  </svg>\n",
              "      </button>\n",
              "      \n",
              "  <style>\n",
              "    .colab-df-container {\n",
              "      display:flex;\n",
              "      flex-wrap:wrap;\n",
              "      gap: 12px;\n",
              "    }\n",
              "\n",
              "    .colab-df-convert {\n",
              "      background-color: #E8F0FE;\n",
              "      border: none;\n",
              "      border-radius: 50%;\n",
              "      cursor: pointer;\n",
              "      display: none;\n",
              "      fill: #1967D2;\n",
              "      height: 32px;\n",
              "      padding: 0 0 0 0;\n",
              "      width: 32px;\n",
              "    }\n",
              "\n",
              "    .colab-df-convert:hover {\n",
              "      background-color: #E2EBFA;\n",
              "      box-shadow: 0px 1px 2px rgba(60, 64, 67, 0.3), 0px 1px 3px 1px rgba(60, 64, 67, 0.15);\n",
              "      fill: #174EA6;\n",
              "    }\n",
              "\n",
              "    [theme=dark] .colab-df-convert {\n",
              "      background-color: #3B4455;\n",
              "      fill: #D2E3FC;\n",
              "    }\n",
              "\n",
              "    [theme=dark] .colab-df-convert:hover {\n",
              "      background-color: #434B5C;\n",
              "      box-shadow: 0px 1px 3px 1px rgba(0, 0, 0, 0.15);\n",
              "      filter: drop-shadow(0px 1px 2px rgba(0, 0, 0, 0.3));\n",
              "      fill: #FFFFFF;\n",
              "    }\n",
              "  </style>\n",
              "\n",
              "      <script>\n",
              "        const buttonEl =\n",
              "          document.querySelector('#df-b42d42b1-2896-4eba-aae1-27417f115644 button.colab-df-convert');\n",
              "        buttonEl.style.display =\n",
              "          google.colab.kernel.accessAllowed ? 'block' : 'none';\n",
              "\n",
              "        async function convertToInteractive(key) {\n",
              "          const element = document.querySelector('#df-b42d42b1-2896-4eba-aae1-27417f115644');\n",
              "          const dataTable =\n",
              "            await google.colab.kernel.invokeFunction('convertToInteractive',\n",
              "                                                     [key], {});\n",
              "          if (!dataTable) return;\n",
              "\n",
              "          const docLinkHtml = 'Like what you see? Visit the ' +\n",
              "            '<a target=\"_blank\" href=https://colab.research.google.com/notebooks/data_table.ipynb>data table notebook</a>'\n",
              "            + ' to learn more about interactive tables.';\n",
              "          element.innerHTML = '';\n",
              "          dataTable['output_type'] = 'display_data';\n",
              "          await google.colab.output.renderOutput(dataTable, element);\n",
              "          const docLink = document.createElement('div');\n",
              "          docLink.innerHTML = docLinkHtml;\n",
              "          element.appendChild(docLink);\n",
              "        }\n",
              "      </script>\n",
              "    </div>\n",
              "  </div>\n",
              "  "
            ]
          },
          "metadata": {},
          "execution_count": 171
        }
      ]
    },
    {
      "cell_type": "code",
      "source": [
        "X = data_house.iloc[:,:6]\n",
        "y = data_house.iloc[:,6]"
      ],
      "metadata": {
        "id": "xkPv90OrX8nM"
      },
      "execution_count": null,
      "outputs": []
    },
    {
      "cell_type": "code",
      "source": [
        "from sklearn.model_selection import train_test_split\n",
        "X_train, X_test, y_train, y_test = train_test_split(X, y, test_size=0.25) "
      ],
      "metadata": {
        "id": "BCkh6Ve0JZuW"
      },
      "execution_count": null,
      "outputs": []
    },
    {
      "cell_type": "code",
      "source": [
        "model = Sequential()\n",
        "model.add(Dense(30, activation = 'relu'))\n",
        "model.add(Dense(15, activation = 'relu'))\n",
        "model.add(Dense(15, activation = 'relu'))\n",
        "model.add(Dense(3, activation = 'softmax'))\n",
        "\n",
        "model.compile(loss = 'mse', optimizer = 'adam', metrics = 'accuracy')\n",
        "model.fit(X_train,y_train, epochs = 50, batch_size=10)"
      ],
      "metadata": {
        "colab": {
          "base_uri": "https://localhost:8080/"
        },
        "id": "WwzeYhP2LQJA",
        "outputId": "092de4c5-4833-426e-b414-c31d968f7321"
      },
      "execution_count": null,
      "outputs": [
        {
          "output_type": "stream",
          "name": "stdout",
          "text": [
            "Epoch 1/50\n",
            "31/31 [==============================] - 1s 3ms/step - loss: 1563.4553 - accuracy: 0.0000e+00\n",
            "Epoch 2/50\n",
            "31/31 [==============================] - 0s 3ms/step - loss: 1563.4556 - accuracy: 0.0000e+00\n",
            "Epoch 3/50\n",
            "31/31 [==============================] - 0s 3ms/step - loss: 1563.4552 - accuracy: 0.0000e+00\n",
            "Epoch 4/50\n",
            "31/31 [==============================] - 0s 2ms/step - loss: 1563.4554 - accuracy: 0.0000e+00\n",
            "Epoch 5/50\n",
            "31/31 [==============================] - 0s 3ms/step - loss: 1563.4554 - accuracy: 0.0000e+00\n",
            "Epoch 6/50\n",
            "31/31 [==============================] - 0s 2ms/step - loss: 1563.4557 - accuracy: 0.0000e+00\n",
            "Epoch 7/50\n",
            "31/31 [==============================] - 0s 2ms/step - loss: 1563.4552 - accuracy: 0.0000e+00\n",
            "Epoch 8/50\n",
            "31/31 [==============================] - 0s 2ms/step - loss: 1563.4556 - accuracy: 0.0000e+00\n",
            "Epoch 9/50\n",
            "31/31 [==============================] - 0s 3ms/step - loss: 1563.4557 - accuracy: 0.0000e+00\n",
            "Epoch 10/50\n",
            "31/31 [==============================] - 0s 2ms/step - loss: 1563.4554 - accuracy: 0.0000e+00\n",
            "Epoch 11/50\n",
            "31/31 [==============================] - 0s 3ms/step - loss: 1563.4552 - accuracy: 0.0000e+00\n",
            "Epoch 12/50\n",
            "31/31 [==============================] - 0s 3ms/step - loss: 1563.4556 - accuracy: 0.0000e+00\n",
            "Epoch 13/50\n",
            "31/31 [==============================] - 0s 3ms/step - loss: 1563.4552 - accuracy: 0.0000e+00\n",
            "Epoch 14/50\n",
            "31/31 [==============================] - 0s 2ms/step - loss: 1563.4554 - accuracy: 0.0000e+00\n",
            "Epoch 15/50\n",
            "31/31 [==============================] - 0s 3ms/step - loss: 1563.4552 - accuracy: 0.0000e+00\n",
            "Epoch 16/50\n",
            "31/31 [==============================] - 0s 2ms/step - loss: 1563.4554 - accuracy: 0.0000e+00\n",
            "Epoch 17/50\n",
            "31/31 [==============================] - 0s 2ms/step - loss: 1563.4556 - accuracy: 0.0000e+00\n",
            "Epoch 18/50\n",
            "31/31 [==============================] - 0s 2ms/step - loss: 1563.4556 - accuracy: 0.0000e+00\n",
            "Epoch 19/50\n",
            "31/31 [==============================] - 0s 2ms/step - loss: 1563.4556 - accuracy: 0.0000e+00\n",
            "Epoch 20/50\n",
            "31/31 [==============================] - 0s 2ms/step - loss: 1563.4554 - accuracy: 0.0000e+00\n",
            "Epoch 21/50\n",
            "31/31 [==============================] - 0s 3ms/step - loss: 1563.4554 - accuracy: 0.0000e+00\n",
            "Epoch 22/50\n",
            "31/31 [==============================] - 0s 2ms/step - loss: 1563.4557 - accuracy: 0.0000e+00\n",
            "Epoch 23/50\n",
            "31/31 [==============================] - 0s 3ms/step - loss: 1563.4552 - accuracy: 0.0000e+00\n",
            "Epoch 24/50\n",
            "31/31 [==============================] - 0s 2ms/step - loss: 1563.4554 - accuracy: 0.0000e+00\n",
            "Epoch 25/50\n",
            "31/31 [==============================] - 0s 3ms/step - loss: 1563.4552 - accuracy: 0.0000e+00\n",
            "Epoch 26/50\n",
            "31/31 [==============================] - 0s 2ms/step - loss: 1563.4557 - accuracy: 0.0000e+00\n",
            "Epoch 27/50\n",
            "31/31 [==============================] - 0s 3ms/step - loss: 1563.4554 - accuracy: 0.0000e+00\n",
            "Epoch 28/50\n",
            "31/31 [==============================] - 0s 3ms/step - loss: 1563.4552 - accuracy: 0.0000e+00\n",
            "Epoch 29/50\n",
            "31/31 [==============================] - 0s 2ms/step - loss: 1563.4557 - accuracy: 0.0000e+00\n",
            "Epoch 30/50\n",
            "31/31 [==============================] - 0s 3ms/step - loss: 1563.4554 - accuracy: 0.0000e+00\n",
            "Epoch 31/50\n",
            "31/31 [==============================] - 0s 2ms/step - loss: 1563.4554 - accuracy: 0.0000e+00\n",
            "Epoch 32/50\n",
            "31/31 [==============================] - 0s 2ms/step - loss: 1563.4556 - accuracy: 0.0000e+00\n",
            "Epoch 33/50\n",
            "31/31 [==============================] - 0s 2ms/step - loss: 1563.4554 - accuracy: 0.0000e+00\n",
            "Epoch 34/50\n",
            "31/31 [==============================] - 0s 3ms/step - loss: 1563.4554 - accuracy: 0.0000e+00\n",
            "Epoch 35/50\n",
            "31/31 [==============================] - 0s 3ms/step - loss: 1563.4552 - accuracy: 0.0000e+00\n",
            "Epoch 36/50\n",
            "31/31 [==============================] - 0s 2ms/step - loss: 1563.4552 - accuracy: 0.0000e+00\n",
            "Epoch 37/50\n",
            "31/31 [==============================] - 0s 3ms/step - loss: 1563.4552 - accuracy: 0.0000e+00\n",
            "Epoch 38/50\n",
            "31/31 [==============================] - 0s 2ms/step - loss: 1563.4552 - accuracy: 0.0000e+00\n",
            "Epoch 39/50\n",
            "31/31 [==============================] - 0s 2ms/step - loss: 1563.4554 - accuracy: 0.0000e+00\n",
            "Epoch 40/50\n",
            "31/31 [==============================] - 0s 2ms/step - loss: 1563.4557 - accuracy: 0.0000e+00\n",
            "Epoch 41/50\n",
            "31/31 [==============================] - 0s 2ms/step - loss: 1563.4554 - accuracy: 0.0000e+00\n",
            "Epoch 42/50\n",
            "31/31 [==============================] - 0s 3ms/step - loss: 1563.4553 - accuracy: 0.0000e+00\n",
            "Epoch 43/50\n",
            "31/31 [==============================] - 0s 2ms/step - loss: 1563.4556 - accuracy: 0.0000e+00\n",
            "Epoch 44/50\n",
            "31/31 [==============================] - 0s 2ms/step - loss: 1563.4557 - accuracy: 0.0000e+00\n",
            "Epoch 45/50\n",
            "31/31 [==============================] - 0s 2ms/step - loss: 1563.4554 - accuracy: 0.0000e+00\n",
            "Epoch 46/50\n",
            "31/31 [==============================] - 0s 3ms/step - loss: 1563.4553 - accuracy: 0.0000e+00\n",
            "Epoch 47/50\n",
            "31/31 [==============================] - 0s 3ms/step - loss: 1563.4556 - accuracy: 0.0000e+00\n",
            "Epoch 48/50\n",
            "31/31 [==============================] - 0s 3ms/step - loss: 1563.4558 - accuracy: 0.0000e+00\n",
            "Epoch 49/50\n",
            "31/31 [==============================] - 0s 2ms/step - loss: 1563.4553 - accuracy: 0.0000e+00\n",
            "Epoch 50/50\n",
            "31/31 [==============================] - 0s 2ms/step - loss: 1563.4552 - accuracy: 0.0000e+00\n"
          ]
        },
        {
          "output_type": "execute_result",
          "data": {
            "text/plain": [
              "<keras.callbacks.History at 0x7f1e22cda700>"
            ]
          },
          "metadata": {},
          "execution_count": 174
        }
      ]
    },
    {
      "cell_type": "code",
      "source": [
        "model.summary()"
      ],
      "metadata": {
        "colab": {
          "base_uri": "https://localhost:8080/"
        },
        "id": "FvqE0b5iXHcM",
        "outputId": "5994cd5d-a2ba-45b1-ab98-a3aca8c69d26"
      },
      "execution_count": null,
      "outputs": [
        {
          "output_type": "stream",
          "name": "stdout",
          "text": [
            "Model: \"sequential_39\"\n",
            "_________________________________________________________________\n",
            " Layer (type)                Output Shape              Param #   \n",
            "=================================================================\n",
            " dense_149 (Dense)           (10, 30)                  210       \n",
            "                                                                 \n",
            " dense_150 (Dense)           (10, 15)                  465       \n",
            "                                                                 \n",
            " dense_151 (Dense)           (10, 15)                  240       \n",
            "                                                                 \n",
            " dense_152 (Dense)           (10, 3)                   48        \n",
            "                                                                 \n",
            "=================================================================\n",
            "Total params: 963\n",
            "Trainable params: 963\n",
            "Non-trainable params: 0\n",
            "_________________________________________________________________\n"
          ]
        }
      ]
    },
    {
      "cell_type": "code",
      "source": [
        "test_acc, test_loss = model.evaluate(X,y)\n",
        "print('Accuracy: ' ,test_acc)"
      ],
      "metadata": {
        "colab": {
          "base_uri": "https://localhost:8080/"
        },
        "id": "rLYCB6UsSMrE",
        "outputId": "6674a906-e321-495d-e8e3-645a63a0d950"
      },
      "execution_count": null,
      "outputs": [
        {
          "output_type": "stream",
          "name": "stdout",
          "text": [
            "13/13 [==============================] - 0s 2ms/step - loss: 1602.1975 - accuracy: 0.0000e+00\n",
            "Accuracy:  1602.197509765625\n"
          ]
        }
      ]
    }
  ]
}