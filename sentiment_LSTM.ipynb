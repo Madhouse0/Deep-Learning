{
  "cells": [
    {
      "cell_type": "code",
      "execution_count": 41,
      "metadata": {
        "id": "oFztgg97aJvw"
      },
      "outputs": [],
      "source": [
        "from tensorflow.keras.preprocessing.sequence import pad_sequences\n",
        "from tensorflow.keras import layers , activations , models , preprocessing , utils\n",
        "import tensorflow as tf\n",
        "from  sklearn.model_selection import train_test_split"
      ]
    },
    {
      "cell_type": "code",
      "execution_count": 42,
      "metadata": {
        "id": "12Ak66aeaJv7",
        "outputId": "04581f79-0922-4a75-faa0-68f3dabc9e38",
        "colab": {
          "base_uri": "https://localhost:8080/"
        }
      },
      "outputs": [
        {
          "output_type": "stream",
          "name": "stdout",
          "text": [
            "Read 992 items, skiped 8 error lines\n",
            "Label 0: 496 Label 1: 496\n"
          ]
        }
      ],
      "source": [
        "#doc du lieu ve dang data-label\n",
        "data=[]\n",
        "label=[]\n",
        "error=0\n",
        "with open('yelp_labelled.csv','r') as f:\n",
        "    for line in f:\n",
        "        part = line.strip().strip(',').split(',')\n",
        "        if len(part)<=1:\n",
        "            error+=1\n",
        "            continue\n",
        "        if part[-1]!='0' and part[-1]!='1':\n",
        "            error+=1\n",
        "            continue\n",
        "        data.append(\", \".join(part[:-1]))\n",
        "        label.append(int(part[-1]))\n",
        "print('Read',len(data),'items, skiped',error,'error lines')\n",
        "print('Label 0:',len(label)-sum(label),'Label 1:',sum(label))"
      ]
    },
    {
      "cell_type": "code",
      "execution_count": 43,
      "metadata": {
        "id": "5fq-zw8IaJv-",
        "outputId": "4564accf-b416-4bcb-de70-8ebd16fbf8f9",
        "colab": {
          "base_uri": "https://localhost:8080/"
        }
      },
      "outputs": [
        {
          "output_type": "stream",
          "name": "stdout",
          "text": [
            "['Wow... Loved this place.', 'Crust is not good.', 'Not tasty and the texture was just nasty.', 'Stopped by during the late May bank holiday off Rick Steve recommendation and loved it.', 'The selection on the menu was great and so were the prices.']\n",
            "[1, 0, 0, 1, 1]\n"
          ]
        }
      ],
      "source": [
        "print(data[:5])\n",
        "print(label[:5])"
      ]
    },
    {
      "cell_type": "code",
      "execution_count": 44,
      "metadata": {
        "id": "fYWrAn06aJwA",
        "outputId": "a85edbfd-90f0-4397-b3a8-4215caec8eb6",
        "colab": {
          "base_uri": "https://localhost:8080/"
        }
      },
      "outputs": [
        {
          "output_type": "stream",
          "name": "stdout",
          "text": [
            "[[  0   0   0   0   0   0   0   0   0   0   0   0   0   0   0   0   0   0\n",
            "    0   0   0   0   0   0   0   0   0   0 424 164   8  15]\n",
            " [  0   0   0   0   0   0   0   0   0   0   0   0   0   0   0   0   0   0\n",
            "    0   0   0   0   0   0   0   0   0   0 582   7  12  16]\n",
            " [  0   0   0   0   0   0   0   0   0   0   0   0   0   0   0   0   0   0\n",
            "    0   0   0   0   0   0  12 149   2   1 425   4  45 426]\n",
            " [  0   0   0   0   0   0   0   0   0   0   0   0   0   0   0   0   0 583\n",
            "   73 289   1 584 290 893 894 180 895 896 427   2 164   9]\n",
            " [  0   0   0   0   0   0   0   0   0   0   0   0   0   0   0   0   0   0\n",
            "    0   0   1 165  35   1 109   4  22   2  26  27   1 166]]\n"
          ]
        }
      ],
      "source": [
        "tokenizer = tf.keras.preprocessing.text.Tokenizer(lower=True,split=' ')\n",
        "tokenizer.fit_on_texts(data)\n",
        "X = tokenizer.texts_to_sequences(data)\n",
        "X = pad_sequences(X)\n",
        "print(X[:5])"
      ]
    },
    {
      "cell_type": "code",
      "execution_count": 45,
      "metadata": {
        "id": "rnpKxY50aJwC",
        "outputId": "eaf2e099-eeb0-4c02-d87c-31f26ff49751",
        "colab": {
          "base_uri": "https://localhost:8080/"
        }
      },
      "outputs": [
        {
          "output_type": "stream",
          "name": "stdout",
          "text": [
            "input shape (992, 32)\n",
            "Vocab count 2054\n"
          ]
        }
      ],
      "source": [
        "print(\"input shape\",X.shape)\n",
        "n_vocab=len(tokenizer.word_index)+1\n",
        "print('Vocab count',n_vocab)"
      ]
    },
    {
      "cell_type": "code",
      "execution_count": 46,
      "metadata": {
        "id": "uU0hgOrYaJwC",
        "outputId": "53dfe167-04a2-4f46-fdcf-10549aeac5a8",
        "colab": {
          "base_uri": "https://localhost:8080/"
        }
      },
      "outputs": [
        {
          "output_type": "stream",
          "name": "stdout",
          "text": [
            "2054\n",
            "32\n"
          ]
        }
      ],
      "source": [
        "print(n_vocab)\n",
        "print(X.shape[1])"
      ]
    },
    {
      "cell_type": "code",
      "execution_count": 47,
      "metadata": {
        "id": "AkMQcO3eaJwE",
        "outputId": "9d0d0dba-4068-496b-ee00-518efb23ed85",
        "colab": {
          "base_uri": "https://localhost:8080/"
        }
      },
      "outputs": [
        {
          "output_type": "stream",
          "name": "stdout",
          "text": [
            "Model: \"sequential_6\"\n",
            "_________________________________________________________________\n",
            " Layer (type)                Output Shape              Param #   \n",
            "=================================================================\n",
            " embedding_5 (Embedding)     (None, 32, 128)           262912    \n",
            "                                                                 \n",
            " lstm_2 (LSTM)               (None, 200)               263200    \n",
            "                                                                 \n",
            " dense_8 (Dense)             (None, 128)               25728     \n",
            "                                                                 \n",
            " dense_9 (Dense)             (None, 2)                 258       \n",
            "                                                                 \n",
            "=================================================================\n",
            "Total params: 552,098\n",
            "Trainable params: 552,098\n",
            "Non-trainable params: 0\n",
            "_________________________________________________________________\n",
            "None\n"
          ]
        }
      ],
      "source": [
        "embed_dim = 128\n",
        "hidden_size = 200\n",
        "batch_size = 32\n",
        "\n",
        "model = models.Sequential()\n",
        "model.add(layers.Embedding(n_vocab, embed_dim, input_length = X.shape[1]))\n",
        "#model.add(layers.LSTM(hidden_size,return_sequences = True))\n",
        "model.add(layers.LSTM(hidden_size))\n",
        "model.add(layers.Dense(128,activation='sigmoid'))\n",
        "model.add(layers.Dense(2,activation='softmax'))\n",
        "model.compile(loss = 'categorical_crossentropy', optimizer='adam',metrics = ['accuracy'])\n",
        "print(model.summary())"
      ]
    },
    {
      "cell_type": "code",
      "source": [
        "model_RNN = models.Sequential()\n",
        "model_RNN.add(layers.Embedding(n_vocab, embed_dim, input_length = X.shape[1]))\n",
        "model_RNN.add(layers.SimpleRNN(256, 'sigmoid'))\n",
        "model_RNN.add(layers.Dense(128,'sigmoid'))\n",
        "model_RNN.add(layers.Dense(2,'softmax'))\n",
        "model_RNN.compile(loss = 'categorical_crossentropy', optimizer='adam',metrics = ['accuracy'])\n",
        "print(model_RNN.summary())"
      ],
      "metadata": {
        "id": "v36pFxNoabDy",
        "outputId": "bfc1fb2f-5b6a-42fc-bcbc-1b3d43b1cdff",
        "colab": {
          "base_uri": "https://localhost:8080/"
        }
      },
      "execution_count": 48,
      "outputs": [
        {
          "output_type": "stream",
          "name": "stdout",
          "text": [
            "Model: \"sequential_7\"\n",
            "_________________________________________________________________\n",
            " Layer (type)                Output Shape              Param #   \n",
            "=================================================================\n",
            " embedding_6 (Embedding)     (None, 32, 128)           262912    \n",
            "                                                                 \n",
            " simple_rnn_4 (SimpleRNN)    (None, 256)               98560     \n",
            "                                                                 \n",
            " dense_10 (Dense)            (None, 128)               32896     \n",
            "                                                                 \n",
            " dense_11 (Dense)            (None, 2)                 258       \n",
            "                                                                 \n",
            "=================================================================\n",
            "Total params: 394,626\n",
            "Trainable params: 394,626\n",
            "Non-trainable params: 0\n",
            "_________________________________________________________________\n",
            "None\n"
          ]
        }
      ]
    },
    {
      "cell_type": "code",
      "execution_count": 49,
      "metadata": {
        "id": "LprMY-jRaJwG"
      },
      "outputs": [],
      "source": [
        "#tách train test\n",
        "Y = tf.keras.utils.to_categorical(label)\n",
        "X_train, X_valid, Y_train, Y_valid = train_test_split(X, Y, test_size = 0.25, random_state = 36)"
      ]
    },
    {
      "cell_type": "code",
      "execution_count": 50,
      "metadata": {
        "id": "tzjdq9zfaJwJ",
        "outputId": "f0cc25c2-7efa-4a93-ce2e-a8daf440d061",
        "colab": {
          "base_uri": "https://localhost:8080/"
        }
      },
      "outputs": [
        {
          "output_type": "stream",
          "name": "stdout",
          "text": [
            "Epoch 1/10\n",
            "21/21 [==============================] - 12s 403ms/step - loss: 0.7234 - accuracy: 0.5067 - val_loss: 0.6846 - val_accuracy: 0.5333\n",
            "Epoch 2/10\n",
            "21/21 [==============================] - 4s 183ms/step - loss: 0.6796 - accuracy: 0.5501 - val_loss: 0.6662 - val_accuracy: 0.6400\n",
            "Epoch 3/10\n",
            "21/21 [==============================] - 5s 230ms/step - loss: 0.5024 - accuracy: 0.8132 - val_loss: 0.4284 - val_accuracy: 0.7867\n",
            "Epoch 4/10\n",
            "21/21 [==============================] - 6s 293ms/step - loss: 0.2071 - accuracy: 0.9283 - val_loss: 0.5824 - val_accuracy: 0.7467\n",
            "Epoch 5/10\n",
            "21/21 [==============================] - 5s 266ms/step - loss: 0.1494 - accuracy: 0.9537 - val_loss: 0.6635 - val_accuracy: 0.7333\n",
            "Epoch 6/10\n",
            "21/21 [==============================] - 3s 135ms/step - loss: 0.0581 - accuracy: 0.9895 - val_loss: 0.6399 - val_accuracy: 0.8000\n",
            "Epoch 7/10\n",
            "21/21 [==============================] - 3s 167ms/step - loss: 0.0237 - accuracy: 0.9970 - val_loss: 0.6556 - val_accuracy: 0.8400\n",
            "Epoch 8/10\n",
            "21/21 [==============================] - 5s 251ms/step - loss: 0.0140 - accuracy: 0.9955 - val_loss: 0.6617 - val_accuracy: 0.8667\n",
            "Epoch 9/10\n",
            "21/21 [==============================] - 4s 173ms/step - loss: 0.0089 - accuracy: 0.9970 - val_loss: 0.8460 - val_accuracy: 0.8267\n",
            "Epoch 10/10\n",
            "21/21 [==============================] - 5s 222ms/step - loss: 0.0182 - accuracy: 0.9985 - val_loss: 0.6750 - val_accuracy: 0.8400\n"
          ]
        }
      ],
      "source": [
        "history = model.fit(X_train, Y_train, batch_size = batch_size, epochs = 10, verbose = 1, validation_split=0.1)"
      ]
    },
    {
      "cell_type": "code",
      "source": [
        "history_RNN = model_RNN.fit(X_train, Y_train, batch_size = batch_size, epochs = 10, verbose = 1, validation_split=0.1)"
      ],
      "metadata": {
        "id": "ZtMhdjuobfY6",
        "outputId": "149c764d-58be-4511-a252-56c321f6b644",
        "colab": {
          "base_uri": "https://localhost:8080/"
        }
      },
      "execution_count": 51,
      "outputs": [
        {
          "output_type": "stream",
          "name": "stdout",
          "text": [
            "Epoch 1/10\n",
            "21/21 [==============================] - 4s 102ms/step - loss: 0.7940 - accuracy: 0.4873 - val_loss: 0.7831 - val_accuracy: 0.4667\n",
            "Epoch 2/10\n",
            "21/21 [==============================] - 4s 212ms/step - loss: 0.7216 - accuracy: 0.5277 - val_loss: 0.6908 - val_accuracy: 0.5333\n",
            "Epoch 3/10\n",
            "21/21 [==============================] - 1s 62ms/step - loss: 0.6838 - accuracy: 0.5396 - val_loss: 0.6842 - val_accuracy: 0.5733\n",
            "Epoch 4/10\n",
            "21/21 [==============================] - 3s 86ms/step - loss: 0.6477 - accuracy: 0.6682 - val_loss: 0.6851 - val_accuracy: 0.5600\n",
            "Epoch 5/10\n",
            "21/21 [==============================] - 2s 115ms/step - loss: 0.5613 - accuracy: 0.8356 - val_loss: 0.6697 - val_accuracy: 0.5733\n",
            "Epoch 6/10\n",
            "21/21 [==============================] - 1s 61ms/step - loss: 0.4153 - accuracy: 0.8685 - val_loss: 0.7005 - val_accuracy: 0.5733\n",
            "Epoch 7/10\n",
            "21/21 [==============================] - 1s 60ms/step - loss: 0.3184 - accuracy: 0.8580 - val_loss: 0.8037 - val_accuracy: 0.5733\n",
            "Epoch 8/10\n",
            "21/21 [==============================] - 1s 60ms/step - loss: 0.2510 - accuracy: 0.8759 - val_loss: 0.8943 - val_accuracy: 0.5867\n",
            "Epoch 9/10\n",
            "21/21 [==============================] - 2s 105ms/step - loss: 0.1980 - accuracy: 0.9238 - val_loss: 0.9421 - val_accuracy: 0.5867\n",
            "Epoch 10/10\n",
            "21/21 [==============================] - 3s 132ms/step - loss: 0.1440 - accuracy: 0.9432 - val_loss: 1.0728 - val_accuracy: 0.5600\n"
          ]
        }
      ]
    },
    {
      "cell_type": "code",
      "execution_count": 52,
      "metadata": {
        "id": "I9SIIZ3zaJwL",
        "outputId": "92cafcf9-2682-40cc-b6b3-3a705312a221",
        "colab": {
          "base_uri": "https://localhost:8080/",
          "height": 683
        }
      },
      "outputs": [
        {
          "output_type": "display_data",
          "data": {
            "text/plain": [
              "<Figure size 720x360 with 1 Axes>"
            ],
            "image/png": "[encoded data removed]"
          },
          "metadata": {
            "needs_background": "light"
          }
        },
        {
          "output_type": "display_data",
          "data": {
            "text/plain": [
              "<Figure size 720x360 with 1 Axes>"
            ],
            "image/png": "[encoded data removed]"
          },
          "metadata": {
            "needs_background": "light"
          }
        }
      ],
      "source": [
        "%matplotlib inline\n",
        "import matplotlib.pyplot as plt\n",
        "plt.rcParams['figure.figsize'] = (10, 5)\n",
        "# Plot training & validation accuracy values\n",
        "plt.plot(history.history['accuracy'])\n",
        "plt.plot(history.history['val_accuracy'])\n",
        "plt.title('Model accuracy')\n",
        "plt.ylabel('Accuracy')\n",
        "plt.xlabel('Epoch')\n",
        "plt.legend(['Train', 'Test'], loc='upper left')\n",
        "plt.show()\n",
        "\n",
        "# Plot training & validation loss values\n",
        "plt.plot(history.history['loss'])\n",
        "plt.plot(history.history['val_loss'])\n",
        "plt.title('Model loss')\n",
        "plt.ylabel('Loss')\n",
        "plt.xlabel('Epoch')\n",
        "plt.legend(['Train', 'Test'], loc='upper left')\n",
        "plt.show()"
      ]
    },
    {
      "cell_type": "code",
      "source": [
        "%matplotlib inline\n",
        "import matplotlib.pyplot as plt\n",
        "plt.rcParams['figure.figsize'] = (10, 5)\n",
        "# Plot training & validation accuracy values\n",
        "plt.plot(history_RNN.history['accuracy'])\n",
        "plt.plot(history_RNN.history['val_accuracy'])\n",
        "plt.title('Model accuracy')\n",
        "plt.ylabel('Accuracy')\n",
        "plt.xlabel('Epoch')\n",
        "plt.legend(['Train', 'Test'], loc='upper left')\n",
        "plt.show()\n",
        "\n",
        "# Plot training & validation loss values\n",
        "plt.plot(history_RNN.history['loss'])\n",
        "plt.plot(history_RNN.history['val_loss'])\n",
        "plt.title('Model loss')\n",
        "plt.ylabel('Loss')\n",
        "plt.xlabel('Epoch')\n",
        "plt.legend(['Train', 'Test'], loc='upper left')\n",
        "plt.show()"
      ],
      "metadata": {
        "id": "iQQeQ5h6cCxC",
        "outputId": "29bebcdc-a58d-4dcd-d1a8-46b2765617d8",
        "colab": {
          "base_uri": "https://localhost:8080/",
          "height": 683
        }
      },
      "execution_count": 55,
      "outputs": [
        {
          "output_type": "display_data",
          "data": {
            "text/plain": [
              "<Figure size 720x360 with 1 Axes>"
            ],
            "image/png": "[encoded data removed]"
          },
          "metadata": {
            "needs_background": "light"
          }
        },
        {
          "output_type": "display_data",
          "data": {
            "text/plain": [
              "<Figure size 720x360 with 1 Axes>"
            ],
            "image/png": "[encoded data removed]"
          },
          "metadata": {
            "needs_background": "light"
          }
        }
      ]
    },
    {
      "cell_type": "code",
      "execution_count": 53,
      "metadata": {
        "id": "Zd8mebuBaJwM",
        "outputId": "e2ab7b56-abbc-4aa5-ff9d-49e23550bda3",
        "colab": {
          "base_uri": "https://localhost:8080/"
        }
      },
      "outputs": [
        {
          "output_type": "stream",
          "name": "stdout",
          "text": [
            "8/8 [==============================] - 2s 182ms/step\n"
          ]
        }
      ],
      "source": [
        "#test\n",
        "preds = model.predict(X_valid, verbose = 1)"
      ]
    },
    {
      "cell_type": "code",
      "source": [
        "preds_RNN = model_RNN.predict(X_valid, verbose = 1)"
      ],
      "metadata": {
        "id": "H7VR6k8scN76",
        "outputId": "5ff15065-31b6-4bbd-b63e-951cc7e13a67",
        "colab": {
          "base_uri": "https://localhost:8080/"
        }
      },
      "execution_count": 56,
      "outputs": [
        {
          "output_type": "stream",
          "name": "stdout",
          "text": [
            "8/8 [==============================] - 1s 58ms/step\n"
          ]
        }
      ]
    },
    {
      "cell_type": "code",
      "execution_count": 54,
      "metadata": {
        "id": "WWDeNiUWaJwN",
        "outputId": "3bdf7e01-0d33-46a2-cc4f-11d5dd48933a",
        "colab": {
          "base_uri": "https://localhost:8080/"
        }
      },
      "outputs": [
        {
          "output_type": "stream",
          "name": "stdout",
          "text": [
            "Accuracy: 0.794355\n",
            "Precision: 0.805085\n",
            "Recall: 0.772358\n",
            "F1 score: 0.788382\n",
            "              precision    recall  f1-score   support\n",
            "\n",
            "           0       0.78      0.82      0.80       125\n",
            "           1       0.81      0.77      0.79       123\n"
          ]
        }
      ],
      "source": [
        "from sklearn.metrics import accuracy_score, precision_score, recall_score, f1_score, classification_report\n",
        "import numpy as np\n",
        "#show result scores\n",
        "predict_labels = preds.argmax(axis=-1)\n",
        "true_labels=Y_valid.argmax(axis=-1)\n",
        "# accuracy: (tp + tn) / (p + n)\n",
        "accuracy = accuracy_score(true_labels, predict_labels)\n",
        "print('Accuracy: %f' % accuracy)\n",
        "# precision tp / (tp + fp)\n",
        "precision = precision_score(true_labels, predict_labels)\n",
        "print('Precision: %f' % precision)\n",
        "# recall: tp / (tp + fn)\n",
        "recall = recall_score(true_labels, predict_labels)\n",
        "print('Recall: %f' % recall)\n",
        "# f1: 2 tp / (2 tp + fp + fn)\n",
        "f1 = f1_score(true_labels, predict_labels)\n",
        "print('F1 score: %f' % f1)\n",
        "predict_labels=np.append(predict_labels,1)\n",
        "yhat4 = tf.keras.utils.to_categorical(predict_labels)\n",
        "predict_labels=predict_labels[:-1]\n",
        "yhat4=yhat4[:-1]\n",
        "real = tf.keras.utils.to_categorical(true_labels)\n",
        "print(\"\\n\".join(classification_report(real, yhat4).split('\\n')[:4]))\n"
      ]
    },
    {
      "cell_type": "code",
      "execution_count": 54,
      "metadata": {
        "id": "xQ6IIASfaJwO"
      },
      "outputs": [],
      "source": []
    }
  ],
  "metadata": {
    "kernelspec": {
      "display_name": "Python 3 (ipykernel)",
      "language": "python",
      "name": "python3"
    },
    "language_info": {
      "codemirror_mode": {
        "name": "ipython",
        "version": 3
      },
      "file_extension": ".py",
      "mimetype": "text/x-python",
      "name": "python",
      "nbconvert_exporter": "python",
      "pygments_lexer": "ipython3",
      "version": "3.9.13"
    },
    "colab": {
      "provenance": []
    }
  },
  "nbformat": 4,
  "nbformat_minor": 0
}